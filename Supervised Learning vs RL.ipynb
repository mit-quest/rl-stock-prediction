{
 "cells": [
  {
   "cell_type": "markdown",
   "metadata": {},
   "source": [
    "# Supervised Learning Approach"
   ]
  },
  {
   "cell_type": "markdown",
   "metadata": {},
   "source": [
    "(Insert explanation of our process here)"
   ]
  },
  {
   "cell_type": "markdown",
   "metadata": {},
   "source": [
    "## Supervised Learning Approach"
   ]
  },
  {
   "cell_type": "code",
   "execution_count": 2,
   "metadata": {},
   "outputs": [],
   "source": [
    "import numpy as np\n",
    "import pandas as pd\n",
    "import tensorflow as tf\n",
    "from keras.models import Sequential\n",
    "from keras.layers import Dense, Dropout\n",
    "from keras.layers import Embedding\n",
    "from keras.layers import LSTM\n",
    "from keras import optimizers\n",
    "from keras.callbacks import CSVLogger\n",
    "from sklearn.metrics import mean_squared_error\n",
    "\n",
    "import matplotlib.pyplot as plt\n",
    "%matplotlib inline\n",
    "\n",
    "from sklearn.preprocessing import MinMaxScaler\n",
    "from sklearn.model_selection import train_test_split\n",
    "\n",
    "from tqdm import tqdm_notebook\n",
    "import os\n",
    "\n",
    "TIME_STEPS = 10\n",
    "BATCH_SIZE = 10"
   ]
  },
  {
   "cell_type": "markdown",
   "metadata": {},
   "source": [
    "### Reading Stock Data"
   ]
  },
  {
   "cell_type": "code",
   "execution_count": 3,
   "metadata": {},
   "outputs": [],
   "source": [
    "msft = pd.read_csv(\"./Individual_Stock_Data/MSFT.csv\")"
   ]
  },
  {
   "cell_type": "code",
   "execution_count": 4,
   "metadata": {},
   "outputs": [
    {
     "data": {
      "text/html": [
       "<div>\n",
       "<style scoped>\n",
       "    .dataframe tbody tr th:only-of-type {\n",
       "        vertical-align: middle;\n",
       "    }\n",
       "\n",
       "    .dataframe tbody tr th {\n",
       "        vertical-align: top;\n",
       "    }\n",
       "\n",
       "    .dataframe thead th {\n",
       "        text-align: right;\n",
       "    }\n",
       "</style>\n",
       "<table border=\"1\" class=\"dataframe\">\n",
       "  <thead>\n",
       "    <tr style=\"text-align: right;\">\n",
       "      <th></th>\n",
       "      <th>Date</th>\n",
       "      <th>Open</th>\n",
       "      <th>High</th>\n",
       "      <th>Low</th>\n",
       "      <th>Close</th>\n",
       "      <th>Adj Close</th>\n",
       "      <th>Volume</th>\n",
       "    </tr>\n",
       "  </thead>\n",
       "  <tbody>\n",
       "    <tr>\n",
       "      <th>0</th>\n",
       "      <td>2010-01-04</td>\n",
       "      <td>30.62</td>\n",
       "      <td>31.10</td>\n",
       "      <td>30.59</td>\n",
       "      <td>30.95</td>\n",
       "      <td>24.53</td>\n",
       "      <td>38409100</td>\n",
       "    </tr>\n",
       "    <tr>\n",
       "      <th>1</th>\n",
       "      <td>2010-01-05</td>\n",
       "      <td>30.85</td>\n",
       "      <td>31.10</td>\n",
       "      <td>30.64</td>\n",
       "      <td>30.96</td>\n",
       "      <td>24.53</td>\n",
       "      <td>49749600</td>\n",
       "    </tr>\n",
       "    <tr>\n",
       "      <th>2</th>\n",
       "      <td>2010-01-06</td>\n",
       "      <td>30.88</td>\n",
       "      <td>31.08</td>\n",
       "      <td>30.52</td>\n",
       "      <td>30.77</td>\n",
       "      <td>24.38</td>\n",
       "      <td>58182400</td>\n",
       "    </tr>\n",
       "    <tr>\n",
       "      <th>3</th>\n",
       "      <td>2010-01-07</td>\n",
       "      <td>30.63</td>\n",
       "      <td>30.70</td>\n",
       "      <td>30.19</td>\n",
       "      <td>30.45</td>\n",
       "      <td>24.13</td>\n",
       "      <td>50559700</td>\n",
       "    </tr>\n",
       "    <tr>\n",
       "      <th>4</th>\n",
       "      <td>2010-01-08</td>\n",
       "      <td>30.28</td>\n",
       "      <td>30.88</td>\n",
       "      <td>30.24</td>\n",
       "      <td>30.66</td>\n",
       "      <td>24.30</td>\n",
       "      <td>51197400</td>\n",
       "    </tr>\n",
       "  </tbody>\n",
       "</table>\n",
       "</div>"
      ],
      "text/plain": [
       "         Date   Open   High    Low  Close  Adj Close    Volume\n",
       "0  2010-01-04  30.62  31.10  30.59  30.95      24.53  38409100\n",
       "1  2010-01-05  30.85  31.10  30.64  30.96      24.53  49749600\n",
       "2  2010-01-06  30.88  31.08  30.52  30.77      24.38  58182400\n",
       "3  2010-01-07  30.63  30.70  30.19  30.45      24.13  50559700\n",
       "4  2010-01-08  30.28  30.88  30.24  30.66      24.30  51197400"
      ]
     },
     "execution_count": 4,
     "metadata": {},
     "output_type": "execute_result"
    }
   ],
   "source": [
    "msft.head()"
   ]
  },
  {
   "cell_type": "code",
   "execution_count": 5,
   "metadata": {},
   "outputs": [
    {
     "data": {
      "image/png": "[encoded data removed]",
      "text/plain": [
       "<Figure size 432x288 with 1 Axes>"
      ]
     },
     "metadata": {
      "needs_background": "light"
     },
     "output_type": "display_data"
    }
   ],
   "source": [
    "plt.figure()\n",
    "plt.plot(msft[\"Open\"])\n",
    "plt.plot(msft[\"Close\"])\n",
    "plt.plot(msft[\"High\"])\n",
    "plt.plot(msft[\"Low\"])\n",
    "plt.show()"
   ]
  },
  {
   "cell_type": "markdown",
   "metadata": {},
   "source": [
    "### Normalize Data"
   ]
  },
  {
   "cell_type": "code",
   "execution_count": 6,
   "metadata": {},
   "outputs": [],
   "source": [
    "df_train, df_test = train_test_split(msft, train_size=0.84, test_size=0.16, shuffle=False)"
   ]
  },
  {
   "cell_type": "code",
   "execution_count": 7,
   "metadata": {},
   "outputs": [
    {
     "data": {
      "text/html": [
       "<div>\n",
       "<style scoped>\n",
       "    .dataframe tbody tr th:only-of-type {\n",
       "        vertical-align: middle;\n",
       "    }\n",
       "\n",
       "    .dataframe tbody tr th {\n",
       "        vertical-align: top;\n",
       "    }\n",
       "\n",
       "    .dataframe thead th {\n",
       "        text-align: right;\n",
       "    }\n",
       "</style>\n",
       "<table border=\"1\" class=\"dataframe\">\n",
       "  <thead>\n",
       "    <tr style=\"text-align: right;\">\n",
       "      <th></th>\n",
       "      <th>Date</th>\n",
       "      <th>Open</th>\n",
       "      <th>High</th>\n",
       "      <th>Low</th>\n",
       "      <th>Close</th>\n",
       "      <th>Adj Close</th>\n",
       "      <th>Volume</th>\n",
       "    </tr>\n",
       "  </thead>\n",
       "  <tbody>\n",
       "    <tr>\n",
       "      <th>0</th>\n",
       "      <td>2010-01-04</td>\n",
       "      <td>30.62</td>\n",
       "      <td>31.10</td>\n",
       "      <td>30.59</td>\n",
       "      <td>30.95</td>\n",
       "      <td>24.53</td>\n",
       "      <td>38409100</td>\n",
       "    </tr>\n",
       "    <tr>\n",
       "      <th>1</th>\n",
       "      <td>2010-01-05</td>\n",
       "      <td>30.85</td>\n",
       "      <td>31.10</td>\n",
       "      <td>30.64</td>\n",
       "      <td>30.96</td>\n",
       "      <td>24.53</td>\n",
       "      <td>49749600</td>\n",
       "    </tr>\n",
       "    <tr>\n",
       "      <th>2</th>\n",
       "      <td>2010-01-06</td>\n",
       "      <td>30.88</td>\n",
       "      <td>31.08</td>\n",
       "      <td>30.52</td>\n",
       "      <td>30.77</td>\n",
       "      <td>24.38</td>\n",
       "      <td>58182400</td>\n",
       "    </tr>\n",
       "    <tr>\n",
       "      <th>3</th>\n",
       "      <td>2010-01-07</td>\n",
       "      <td>30.63</td>\n",
       "      <td>30.70</td>\n",
       "      <td>30.19</td>\n",
       "      <td>30.45</td>\n",
       "      <td>24.13</td>\n",
       "      <td>50559700</td>\n",
       "    </tr>\n",
       "    <tr>\n",
       "      <th>4</th>\n",
       "      <td>2010-01-08</td>\n",
       "      <td>30.28</td>\n",
       "      <td>30.88</td>\n",
       "      <td>30.24</td>\n",
       "      <td>30.66</td>\n",
       "      <td>24.30</td>\n",
       "      <td>51197400</td>\n",
       "    </tr>\n",
       "  </tbody>\n",
       "</table>\n",
       "</div>"
      ],
      "text/plain": [
       "         Date   Open   High    Low  Close  Adj Close    Volume\n",
       "0  2010-01-04  30.62  31.10  30.59  30.95      24.53  38409100\n",
       "1  2010-01-05  30.85  31.10  30.64  30.96      24.53  49749600\n",
       "2  2010-01-06  30.88  31.08  30.52  30.77      24.38  58182400\n",
       "3  2010-01-07  30.63  30.70  30.19  30.45      24.13  50559700\n",
       "4  2010-01-08  30.28  30.88  30.24  30.66      24.30  51197400"
      ]
     },
     "execution_count": 7,
     "metadata": {},
     "output_type": "execute_result"
    }
   ],
   "source": [
    "df_train.head()"
   ]
  },
  {
   "cell_type": "code",
   "execution_count": 8,
   "metadata": {},
   "outputs": [
    {
     "data": {
      "text/html": [
       "<div>\n",
       "<style scoped>\n",
       "    .dataframe tbody tr th:only-of-type {\n",
       "        vertical-align: middle;\n",
       "    }\n",
       "\n",
       "    .dataframe tbody tr th {\n",
       "        vertical-align: top;\n",
       "    }\n",
       "\n",
       "    .dataframe thead th {\n",
       "        text-align: right;\n",
       "    }\n",
       "</style>\n",
       "<table border=\"1\" class=\"dataframe\">\n",
       "  <thead>\n",
       "    <tr style=\"text-align: right;\">\n",
       "      <th></th>\n",
       "      <th>Date</th>\n",
       "      <th>Open</th>\n",
       "      <th>High</th>\n",
       "      <th>Low</th>\n",
       "      <th>Close</th>\n",
       "      <th>Adj Close</th>\n",
       "      <th>Volume</th>\n",
       "    </tr>\n",
       "  </thead>\n",
       "  <tbody>\n",
       "    <tr>\n",
       "      <th>2009</th>\n",
       "      <td>2017-12-26</td>\n",
       "      <td>85.31</td>\n",
       "      <td>85.53</td>\n",
       "      <td>85.03</td>\n",
       "      <td>85.40</td>\n",
       "      <td>83.28</td>\n",
       "      <td>9891200</td>\n",
       "    </tr>\n",
       "    <tr>\n",
       "      <th>2010</th>\n",
       "      <td>2017-12-27</td>\n",
       "      <td>85.65</td>\n",
       "      <td>85.98</td>\n",
       "      <td>85.22</td>\n",
       "      <td>85.71</td>\n",
       "      <td>83.58</td>\n",
       "      <td>14678000</td>\n",
       "    </tr>\n",
       "    <tr>\n",
       "      <th>2011</th>\n",
       "      <td>2017-12-28</td>\n",
       "      <td>85.90</td>\n",
       "      <td>85.93</td>\n",
       "      <td>85.55</td>\n",
       "      <td>85.72</td>\n",
       "      <td>83.59</td>\n",
       "      <td>10594300</td>\n",
       "    </tr>\n",
       "    <tr>\n",
       "      <th>2012</th>\n",
       "      <td>2017-12-29</td>\n",
       "      <td>85.63</td>\n",
       "      <td>86.05</td>\n",
       "      <td>85.50</td>\n",
       "      <td>85.54</td>\n",
       "      <td>83.42</td>\n",
       "      <td>18717400</td>\n",
       "    </tr>\n",
       "    <tr>\n",
       "      <th>2013</th>\n",
       "      <td>2018-01-02</td>\n",
       "      <td>86.13</td>\n",
       "      <td>86.31</td>\n",
       "      <td>85.50</td>\n",
       "      <td>85.95</td>\n",
       "      <td>83.82</td>\n",
       "      <td>22483800</td>\n",
       "    </tr>\n",
       "  </tbody>\n",
       "</table>\n",
       "</div>"
      ],
      "text/plain": [
       "            Date   Open   High    Low  Close  Adj Close    Volume\n",
       "2009  2017-12-26  85.31  85.53  85.03  85.40      83.28   9891200\n",
       "2010  2017-12-27  85.65  85.98  85.22  85.71      83.58  14678000\n",
       "2011  2017-12-28  85.90  85.93  85.55  85.72      83.59  10594300\n",
       "2012  2017-12-29  85.63  86.05  85.50  85.54      83.42  18717400\n",
       "2013  2018-01-02  86.13  86.31  85.50  85.95      83.82  22483800"
      ]
     },
     "execution_count": 8,
     "metadata": {},
     "output_type": "execute_result"
    }
   ],
   "source": [
    "df_test.head()"
   ]
  },
  {
   "cell_type": "code",
   "execution_count": 9,
   "metadata": {},
   "outputs": [
    {
     "name": "stdout",
     "output_type": "stream",
     "text": [
      "Train and Test Size: 2009 383\n"
     ]
    }
   ],
   "source": [
    "train_cols = [\"Open\", \"High\", \"Low\", \"Close\", \"Volume\"]\n",
    "print(\"Train and Test Size:\", len(df_train), len(df_test))\n",
    "x = df_train.drop(columns=[\"Date\"]).values\n",
    "min_max_scaler = MinMaxScaler()\n",
    "\n",
    "# Transforming Data\n",
    "x_train = min_max_scaler.fit_transform(x)\n",
    "x_test = min_max_scaler.fit_transform(df_test.drop(columns=[\"Date\"]).values)"
   ]
  },
  {
   "cell_type": "code",
   "execution_count": 10,
   "metadata": {},
   "outputs": [
    {
     "data": {
      "text/plain": [
       "((2009, 6), (383, 6))"
      ]
     },
     "execution_count": 10,
     "metadata": {},
     "output_type": "execute_result"
    }
   ],
   "source": [
    "x_train.shape, x_test.shape"
   ]
  },
  {
   "cell_type": "markdown",
   "metadata": {},
   "source": [
    "## Build Time-Series Structure"
   ]
  },
  {
   "cell_type": "code",
   "execution_count": 40,
   "metadata": {},
   "outputs": [
    {
     "name": "stdout",
     "output_type": "stream",
     "text": [
      "length of time-series i/o (1999, 10, 6) (1999,)\n",
      "length of time-series i/o (373, 10, 6) (373,)\n",
      "Test size (185, 10, 6) (185,) (185, 10, 6) (185,)\n"
     ]
    }
   ],
   "source": [
    "def build_timeseries(mat, y_col_index):\n",
    "    # y_col_index is the index of column that would act as output column\n",
    "    # total number of time-series samples would be len(mat) - TIME_STEPS\n",
    "    dim_0, dim_1 = mat.shape[0] - TIME_STEPS, mat.shape[1]\n",
    "    x = np.zeros((dim_0, TIME_STEPS, dim_1))\n",
    "    y = np.zeros((dim_0,))\n",
    "    for i in range(dim_0):\n",
    "        x[i] = mat[i:TIME_STEPS+i]\n",
    "        y[i] = mat[TIME_STEPS+i, y_col_index]\n",
    "    print(\"length of time-series i/o\",x.shape,y.shape)\n",
    "    return x, y\n",
    "\n",
    "def trim_dataset(mat, batch_size):\n",
    "    \"\"\"\n",
    "    trims dataset to a size that's divisible by BATCH_SIZE\n",
    "    \"\"\"\n",
    "    no_of_rows_drop = mat.shape[0]%batch_size\n",
    "    if(no_of_rows_drop > 0):\n",
    "        return mat[:-no_of_rows_drop]\n",
    "    else:\n",
    "        return mat\n",
    "    \n",
    "x_t, y_t = build_timeseries(x_train, 3)\n",
    "x_t = trim_dataset(x_t, BATCH_SIZE)\n",
    "y_t = trim_dataset(y_t, BATCH_SIZE)\n",
    "x_temp, y_temp = build_timeseries(x_test, 3)\n",
    "x_val, x_test_t = np.split(trim_dataset(x_temp, BATCH_SIZE),2)\n",
    "y_val, y_test_t = np.split(trim_dataset(y_temp, BATCH_SIZE),2)\n",
    "print(\"Test size\", x_test_t.shape, y_test_t.shape, x_val.shape, y_val.shape)\n"
   ]
  },
  {
   "cell_type": "code",
   "execution_count": 47,
   "metadata": {},
   "outputs": [],
   "source": [
    "lstm_model = Sequential()\n",
    "lstm_model.add(LSTM(100, batch_input_shape=(BATCH_SIZE, TIME_STEPS, x_t.shape[2]), dropout=0.0, recurrent_dropout=0.0, stateful=True,     kernel_initializer='random_uniform'))\n",
    "lstm_model.add(Dropout(0.4))\n",
    "lstm_model.add(Dense(20,activation='relu'))\n",
    "lstm_model.add(Dense(1,activation='sigmoid'))\n",
    "optimizer = optimizers.RMSprop(lr=0.001)\n",
    "lstm_model.compile(loss='mean_squared_error', optimizer=optimizer)"
   ]
  },
  {
   "cell_type": "code",
   "execution_count": 48,
   "metadata": {},
   "outputs": [
    {
     "name": "stdout",
     "output_type": "stream",
     "text": [
      "Train on 1990 samples, validate on 180 samples\n",
      "Epoch 1/50\n",
      " - 2s - loss: 0.0052 - val_loss: 0.4530\n",
      "Epoch 2/50\n",
      " - 1s - loss: 0.0171 - val_loss: 0.3255\n",
      "Epoch 3/50\n",
      " - 1s - loss: 0.0117 - val_loss: 0.2411\n",
      "Epoch 4/50\n",
      " - 1s - loss: 0.0084 - val_loss: 0.2105\n",
      "Epoch 5/50\n",
      " - 1s - loss: 0.0065 - val_loss: 0.1642\n",
      "Epoch 6/50\n",
      " - 1s - loss: 0.0049 - val_loss: 0.1477\n",
      "Epoch 7/50\n",
      " - 1s - loss: 0.0044 - val_loss: 0.1396\n",
      "Epoch 8/50\n",
      " - 1s - loss: 0.0037 - val_loss: 0.1449\n",
      "Epoch 9/50\n",
      " - 1s - loss: 0.0039 - val_loss: 0.1367\n",
      "Epoch 10/50\n",
      " - 1s - loss: 0.0034 - val_loss: 0.1208\n",
      "Epoch 11/50\n",
      " - 1s - loss: 0.0031 - val_loss: 0.1065\n",
      "Epoch 12/50\n",
      " - 1s - loss: 0.0025 - val_loss: 0.1395\n",
      "Epoch 13/50\n",
      " - 1s - loss: 0.0033 - val_loss: 0.0868\n",
      "Epoch 14/50\n",
      " - 1s - loss: 0.0022 - val_loss: 0.0808\n",
      "Epoch 15/50\n",
      " - 1s - loss: 0.0024 - val_loss: 0.0548\n",
      "Epoch 16/50\n",
      " - 1s - loss: 0.0014 - val_loss: 0.0514\n",
      "Epoch 17/50\n",
      " - 1s - loss: 0.0011 - val_loss: 0.0341\n",
      "Epoch 18/50\n",
      " - 1s - loss: 9.8432e-04 - val_loss: 0.0288\n",
      "Epoch 19/50\n",
      " - 1s - loss: 9.5971e-04 - val_loss: 0.0271\n",
      "Epoch 20/50\n",
      " - 1s - loss: 7.9238e-04 - val_loss: 0.0334\n",
      "Epoch 21/50\n",
      " - 1s - loss: 7.8086e-04 - val_loss: 0.0463\n",
      "Epoch 22/50\n",
      " - 1s - loss: 7.9044e-04 - val_loss: 0.0519\n",
      "Epoch 23/50\n",
      " - 1s - loss: 7.0887e-04 - val_loss: 0.0451\n",
      "Epoch 24/50\n",
      " - 1s - loss: 6.6227e-04 - val_loss: 0.0491\n",
      "Epoch 25/50\n",
      " - 1s - loss: 6.7586e-04 - val_loss: 0.0513\n",
      "Epoch 26/50\n",
      " - 1s - loss: 7.0350e-04 - val_loss: 0.0420\n",
      "Epoch 27/50\n",
      " - 1s - loss: 5.9846e-04 - val_loss: 0.0425\n",
      "Epoch 28/50\n",
      " - 1s - loss: 5.9699e-04 - val_loss: 0.0575\n",
      "Epoch 29/50\n",
      " - 1s - loss: 5.9785e-04 - val_loss: 0.0370\n",
      "Epoch 30/50\n",
      " - 1s - loss: 6.0450e-04 - val_loss: 0.0311\n",
      "Epoch 31/50\n",
      " - 1s - loss: 6.4998e-04 - val_loss: 0.0367\n",
      "Epoch 32/50\n",
      " - 1s - loss: 6.0342e-04 - val_loss: 0.0340\n",
      "Epoch 33/50\n",
      " - 1s - loss: 6.5630e-04 - val_loss: 0.0350\n",
      "Epoch 34/50\n",
      " - 1s - loss: 5.9665e-04 - val_loss: 0.0537\n",
      "Epoch 35/50\n",
      " - 1s - loss: 5.4788e-04 - val_loss: 0.0783\n",
      "Epoch 36/50\n",
      " - 1s - loss: 5.1357e-04 - val_loss: 0.0450\n",
      "Epoch 37/50\n",
      " - 1s - loss: 7.3716e-04 - val_loss: 0.0237\n",
      "Epoch 38/50\n",
      " - 1s - loss: 4.8766e-04 - val_loss: 0.0397\n",
      "Epoch 39/50\n",
      " - 1s - loss: 5.5193e-04 - val_loss: 0.0336\n",
      "Epoch 40/50\n",
      " - 1s - loss: 4.8864e-04 - val_loss: 0.0311\n",
      "Epoch 41/50\n",
      " - 1s - loss: 5.0562e-04 - val_loss: 0.0239\n",
      "Epoch 42/50\n",
      " - 1s - loss: 5.0339e-04 - val_loss: 0.0301\n",
      "Epoch 43/50\n",
      " - 1s - loss: 4.9132e-04 - val_loss: 0.0306\n",
      "Epoch 44/50\n",
      " - 1s - loss: 4.6041e-04 - val_loss: 0.0327\n",
      "Epoch 45/50\n",
      " - 1s - loss: 4.5870e-04 - val_loss: 0.0402\n",
      "Epoch 46/50\n",
      " - 1s - loss: 4.6880e-04 - val_loss: 0.0286\n",
      "Epoch 47/50\n",
      " - 1s - loss: 4.4133e-04 - val_loss: 0.0093\n",
      "Epoch 48/50\n",
      " - 1s - loss: 4.5616e-04 - val_loss: 0.0075\n",
      "Epoch 49/50\n",
      " - 1s - loss: 4.5111e-04 - val_loss: 0.0115\n",
      "Epoch 50/50\n",
      " - 1s - loss: 4.5665e-04 - val_loss: 0.0061\n"
     ]
    }
   ],
   "source": [
    "csv_logger = CSVLogger(\"stock_supervised.log\", append=True)\n",
    "\n",
    "history = lstm_model.fit(x_t, y_t, epochs=50, verbose=2, batch_size=BATCH_SIZE, #50\n",
    "                        shuffle=False, validation_data=(trim_dataset(x_val, BATCH_SIZE),\n",
    "                        trim_dataset(y_val, BATCH_SIZE)), callbacks=[csv_logger])\n",
    "lstm_model.save(\"SL_stock_model.h5\")"
   ]
  },
  {
   "cell_type": "code",
   "execution_count": 49,
   "metadata": {},
   "outputs": [
    {
     "name": "stdout",
     "output_type": "stream",
     "text": [
      "Error is 0.005234703018333629 (180,) (180,)\n",
      "[116.31482  115.34651  113.677475 112.71896  113.69674  110.90965\n",
      " 107.664    111.211044 111.5651   112.596825 113.59644  111.754135\n",
      " 110.91484  111.70101  110.35145 ]\n",
      "[112.79 112.13 110.85 112.26 106.16 105.91 109.57 107.6  111.   110.71\n",
      " 108.5  108.66 109.63 108.1  102.32]\n"
     ]
    }
   ],
   "source": [
    "from keras.models import load_model\n",
    "\n",
    "y_pred = lstm_model.predict(trim_dataset(x_test_t, BATCH_SIZE), batch_size=BATCH_SIZE)\n",
    "y_pred = y_pred.flatten()\n",
    "y_test_t = trim_dataset(y_test_t, BATCH_SIZE)\n",
    "error = mean_squared_error(y_test_t, y_pred)\n",
    "print(\"Error is\", error, y_pred.shape, y_test_t.shape)\n",
    "\n",
    "# convert the predicted value to range of real data\n",
    "y_pred_org = (y_pred * min_max_scaler.data_range_[3]) + min_max_scaler.data_min_[3]\n",
    "# min_max_scaler.inverse_transform(y_pred)\n",
    "y_test_t_org = (y_test_t * min_max_scaler.data_range_[3]) + min_max_scaler.data_min_[3]\n",
    "\n",
    "print(y_pred_org[0:15])\n",
    "print(y_test_t_org[0:15])"
   ]
  },
  {
   "cell_type": "code",
   "execution_count": 50,
   "metadata": {},
   "outputs": [
    {
     "data": {
      "image/png": "[encoded data removed]",
      "text/plain": [
       "<Figure size 432x288 with 1 Axes>"
      ]
     },
     "metadata": {
      "needs_background": "light"
     },
     "output_type": "display_data"
    },
    {
     "data": {
      "text/plain": [
       "<Figure size 432x288 with 0 Axes>"
      ]
     },
     "metadata": {},
     "output_type": "display_data"
    }
   ],
   "source": [
    "from matplotlib import pyplot as plt\n",
    "plt.figure()\n",
    "plt.plot(y_pred_org)\n",
    "plt.plot(y_test_t_org)\n",
    "plt.title('Prediction vs Real Stock Price')\n",
    "plt.ylabel('Price')\n",
    "plt.xlabel('Days')\n",
    "plt.legend(['Prediction', 'Real'], loc='upper left')\n",
    "plt.show()\n",
    "plt.savefig('pred_vs_real_BS_.png')\n"
   ]
  },
  {
   "cell_type": "code",
   "execution_count": 51,
   "metadata": {},
   "outputs": [
    {
     "name": "stdout",
     "output_type": "stream",
     "text": [
      "0.8534011636257696\n"
     ]
    }
   ],
   "source": [
    "from keras import backend as K\n",
    "\n",
    "def coeff_determination(y_true, y_pred):\n",
    "\n",
    "    SS_res =K.sum(K.square( y_true-y_pred ))\n",
    "    SS_tot = K.sum(K.square( y_true - np.mean(y_true) ) )\n",
    "    return ( 1 - SS_res/(SS_tot + K.epsilon()) )\n",
    "\n",
    "R_2 = coeff_determination(y_test_t_org, y_pred_org)\n",
    "with tf.Session() as sess:  \n",
    "    print(R_2.eval()) \n"
   ]
  },
  {
   "cell_type": "code",
   "execution_count": 52,
   "metadata": {},
   "outputs": [
    {
     "data": {
      "image/png": "[encoded data removed]",
      "text/plain": [
       "<Figure size 432x288 with 1 Axes>"
      ]
     },
     "metadata": {
      "needs_background": "light"
     },
     "output_type": "display_data"
    },
    {
     "name": "stdout",
     "output_type": "stream",
     "text": [
      "Max Profits: 1181.5100000000016\n"
     ]
    }
   ],
   "source": [
    "y_pred = y_pred_org\n",
    "y = y_test_t_org\n",
    "positions = [y[0]]\n",
    "profits = []\n",
    "max_len_p = 0\n",
    "eps = 0.02 # Vary this between 0.01 and 0.05 to maximize profit\n",
    "epsilons = np.arange(0, 0.05, .001)\n",
    "max_pos = []\n",
    "for eps in epsilons:\n",
    "    profit= 0\n",
    "    for t in range(1,len(y)):\n",
    "        if y_pred[t] > y[t-1] + eps*y[t-1]:\n",
    "            positions.append(y[t])\n",
    "        elif y_pred[t] < y[t-1] - eps*y[t-1]:\n",
    "            for p in positions:\n",
    "                profit += (y[t] - p)\n",
    "            positions = []\n",
    "        max_len_p = max(max_len_p, len(positions))\n",
    "    profits.append(profit)\n",
    "    max_pos.append(max_len_p)\n",
    "\n",
    "plt.figure()\n",
    "plt.plot(epsilons, profits)\n",
    "plt.title('Profit maximization')\n",
    "plt.ylabel('Profits')\n",
    "plt.xlabel('Epsilon')\n",
    "plt.legend(['Profits', 'Epsilon'], loc='upper left')\n",
    "plt.show()\n",
    "print(\"Max Profits:\", max(profits))"
   ]
  },
  {
   "cell_type": "markdown",
   "metadata": {},
   "source": [
    "If we change the epsilon value, we essentially change the range we can choose whether or not to buy or sell at, rather than hold. From these results, we can see that our maximum epsilon value is around 0.02, so we buy a stock when our predicted price is more than 2% higher than what it was the day before, and we sell if our maximum epsilon value is around 2% lower.  "
   ]
  },
  {
   "cell_type": "code",
   "execution_count": null,
   "metadata": {},
   "outputs": [],
   "source": []
  }
 ],
 "metadata": {
  "kernelspec": {
   "display_name": "Python 3",
   "language": "python",
   "name": "python3"
  },
  "language_info": {
   "codemirror_mode": {
    "name": "ipython",
    "version": 3
   },
   "file_extension": ".py",
   "mimetype": "text/x-python",
   "name": "python",
   "nbconvert_exporter": "python",
   "pygments_lexer": "ipython3",
   "version": "3.7.4"
  }
 },
 "nbformat": 4,
 "nbformat_minor": 2
}
