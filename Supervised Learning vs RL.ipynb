{
 "cells": [
  {
   "cell_type": "markdown",
   "metadata": {},
   "source": [
    "# Comparing Supervised Learning and RL Using Stock Data"
   ]
  },
  {
   "cell_type": "markdown",
   "metadata": {},
   "source": [
    "(Insert explanation of our process here)"
   ]
  },
  {
   "cell_type": "markdown",
   "metadata": {},
   "source": [
    "## Supervised Learning Approach"
   ]
  },
  {
   "cell_type": "code",
   "execution_count": 3,
   "metadata": {},
   "outputs": [
    {
     "name": "stderr",
     "output_type": "stream",
     "text": [
      "c:\\python37\\lib\\site-packages\\tensorflow\\python\\framework\\dtypes.py:516: FutureWarning: Passing (type, 1) or '1type' as a synonym of type is deprecated; in a future version of numpy, it will be understood as (type, (1,)) / '(1,)type'.\n",
      "  _np_qint8 = np.dtype([(\"qint8\", np.int8, 1)])\n",
      "c:\\python37\\lib\\site-packages\\tensorflow\\python\\framework\\dtypes.py:517: FutureWarning: Passing (type, 1) or '1type' as a synonym of type is deprecated; in a future version of numpy, it will be understood as (type, (1,)) / '(1,)type'.\n",
      "  _np_quint8 = np.dtype([(\"quint8\", np.uint8, 1)])\n",
      "c:\\python37\\lib\\site-packages\\tensorflow\\python\\framework\\dtypes.py:518: FutureWarning: Passing (type, 1) or '1type' as a synonym of type is deprecated; in a future version of numpy, it will be understood as (type, (1,)) / '(1,)type'.\n",
      "  _np_qint16 = np.dtype([(\"qint16\", np.int16, 1)])\n",
      "c:\\python37\\lib\\site-packages\\tensorflow\\python\\framework\\dtypes.py:519: FutureWarning: Passing (type, 1) or '1type' as a synonym of type is deprecated; in a future version of numpy, it will be understood as (type, (1,)) / '(1,)type'.\n",
      "  _np_quint16 = np.dtype([(\"quint16\", np.uint16, 1)])\n",
      "c:\\python37\\lib\\site-packages\\tensorflow\\python\\framework\\dtypes.py:520: FutureWarning: Passing (type, 1) or '1type' as a synonym of type is deprecated; in a future version of numpy, it will be understood as (type, (1,)) / '(1,)type'.\n",
      "  _np_qint32 = np.dtype([(\"qint32\", np.int32, 1)])\n",
      "c:\\python37\\lib\\site-packages\\tensorflow\\python\\framework\\dtypes.py:525: FutureWarning: Passing (type, 1) or '1type' as a synonym of type is deprecated; in a future version of numpy, it will be understood as (type, (1,)) / '(1,)type'.\n",
      "  np_resource = np.dtype([(\"resource\", np.ubyte, 1)])\n",
      "c:\\python37\\lib\\site-packages\\tensorboard\\compat\\tensorflow_stub\\dtypes.py:541: FutureWarning: Passing (type, 1) or '1type' as a synonym of type is deprecated; in a future version of numpy, it will be understood as (type, (1,)) / '(1,)type'.\n",
      "  _np_qint8 = np.dtype([(\"qint8\", np.int8, 1)])\n",
      "c:\\python37\\lib\\site-packages\\tensorboard\\compat\\tensorflow_stub\\dtypes.py:542: FutureWarning: Passing (type, 1) or '1type' as a synonym of type is deprecated; in a future version of numpy, it will be understood as (type, (1,)) / '(1,)type'.\n",
      "  _np_quint8 = np.dtype([(\"quint8\", np.uint8, 1)])\n",
      "c:\\python37\\lib\\site-packages\\tensorboard\\compat\\tensorflow_stub\\dtypes.py:543: FutureWarning: Passing (type, 1) or '1type' as a synonym of type is deprecated; in a future version of numpy, it will be understood as (type, (1,)) / '(1,)type'.\n",
      "  _np_qint16 = np.dtype([(\"qint16\", np.int16, 1)])\n",
      "c:\\python37\\lib\\site-packages\\tensorboard\\compat\\tensorflow_stub\\dtypes.py:544: FutureWarning: Passing (type, 1) or '1type' as a synonym of type is deprecated; in a future version of numpy, it will be understood as (type, (1,)) / '(1,)type'.\n",
      "  _np_quint16 = np.dtype([(\"quint16\", np.uint16, 1)])\n",
      "c:\\python37\\lib\\site-packages\\tensorboard\\compat\\tensorflow_stub\\dtypes.py:545: FutureWarning: Passing (type, 1) or '1type' as a synonym of type is deprecated; in a future version of numpy, it will be understood as (type, (1,)) / '(1,)type'.\n",
      "  _np_qint32 = np.dtype([(\"qint32\", np.int32, 1)])\n",
      "c:\\python37\\lib\\site-packages\\tensorboard\\compat\\tensorflow_stub\\dtypes.py:550: FutureWarning: Passing (type, 1) or '1type' as a synonym of type is deprecated; in a future version of numpy, it will be understood as (type, (1,)) / '(1,)type'.\n",
      "  np_resource = np.dtype([(\"resource\", np.ubyte, 1)])\n",
      "Using TensorFlow backend.\n"
     ]
    }
   ],
   "source": [
    "import numpy as np\n",
    "import pandas as pd\n",
    "import tensorflow as tf\n",
    "from keras.models import Sequential\n",
    "from keras.layers import Dense, Dropout\n",
    "from keras.layers import Embedding\n",
    "from keras.layers import LSTM\n",
    "from keras import optimizers\n",
    "from keras.callbacks import CSVLogger\n",
    "from sklearn.metrics import mean_squared_error\n",
    "\n",
    "import matplotlib.pyplot as plt\n",
    "%matplotlib inline\n",
    "\n",
    "from sklearn.preprocessing import MinMaxScaler\n",
    "from sklearn.model_selection import train_test_split\n",
    "\n",
    "from tqdm import tqdm_notebook\n",
    "import os\n",
    "\n",
    "TIME_STEPS = 50\n",
    "BATCH_SIZE = 50\n"
   ]
  },
  {
   "cell_type": "markdown",
   "metadata": {},
   "source": [
    "### Reading Stock Data"
   ]
  },
  {
   "cell_type": "code",
   "execution_count": 4,
   "metadata": {},
   "outputs": [],
   "source": [
    "msft = pd.read_csv(\"./Individual_Stock_Data/MSFT.csv\")"
   ]
  },
  {
   "cell_type": "code",
   "execution_count": 5,
   "metadata": {},
   "outputs": [
    {
     "data": {
      "text/html": [
       "<div>\n",
       "<style scoped>\n",
       "    .dataframe tbody tr th:only-of-type {\n",
       "        vertical-align: middle;\n",
       "    }\n",
       "\n",
       "    .dataframe tbody tr th {\n",
       "        vertical-align: top;\n",
       "    }\n",
       "\n",
       "    .dataframe thead th {\n",
       "        text-align: right;\n",
       "    }\n",
       "</style>\n",
       "<table border=\"1\" class=\"dataframe\">\n",
       "  <thead>\n",
       "    <tr style=\"text-align: right;\">\n",
       "      <th></th>\n",
       "      <th>Date</th>\n",
       "      <th>Open</th>\n",
       "      <th>High</th>\n",
       "      <th>Low</th>\n",
       "      <th>Close</th>\n",
       "      <th>Adj Close</th>\n",
       "      <th>Volume</th>\n",
       "    </tr>\n",
       "  </thead>\n",
       "  <tbody>\n",
       "    <tr>\n",
       "      <th>0</th>\n",
       "      <td>2010-01-04</td>\n",
       "      <td>30.62</td>\n",
       "      <td>31.10</td>\n",
       "      <td>30.59</td>\n",
       "      <td>30.95</td>\n",
       "      <td>24.53</td>\n",
       "      <td>38409100</td>\n",
       "    </tr>\n",
       "    <tr>\n",
       "      <th>1</th>\n",
       "      <td>2010-01-05</td>\n",
       "      <td>30.85</td>\n",
       "      <td>31.10</td>\n",
       "      <td>30.64</td>\n",
       "      <td>30.96</td>\n",
       "      <td>24.53</td>\n",
       "      <td>49749600</td>\n",
       "    </tr>\n",
       "    <tr>\n",
       "      <th>2</th>\n",
       "      <td>2010-01-06</td>\n",
       "      <td>30.88</td>\n",
       "      <td>31.08</td>\n",
       "      <td>30.52</td>\n",
       "      <td>30.77</td>\n",
       "      <td>24.38</td>\n",
       "      <td>58182400</td>\n",
       "    </tr>\n",
       "    <tr>\n",
       "      <th>3</th>\n",
       "      <td>2010-01-07</td>\n",
       "      <td>30.63</td>\n",
       "      <td>30.70</td>\n",
       "      <td>30.19</td>\n",
       "      <td>30.45</td>\n",
       "      <td>24.13</td>\n",
       "      <td>50559700</td>\n",
       "    </tr>\n",
       "    <tr>\n",
       "      <th>4</th>\n",
       "      <td>2010-01-08</td>\n",
       "      <td>30.28</td>\n",
       "      <td>30.88</td>\n",
       "      <td>30.24</td>\n",
       "      <td>30.66</td>\n",
       "      <td>24.30</td>\n",
       "      <td>51197400</td>\n",
       "    </tr>\n",
       "  </tbody>\n",
       "</table>\n",
       "</div>"
      ],
      "text/plain": [
       "         Date   Open   High    Low  Close  Adj Close    Volume\n",
       "0  2010-01-04  30.62  31.10  30.59  30.95      24.53  38409100\n",
       "1  2010-01-05  30.85  31.10  30.64  30.96      24.53  49749600\n",
       "2  2010-01-06  30.88  31.08  30.52  30.77      24.38  58182400\n",
       "3  2010-01-07  30.63  30.70  30.19  30.45      24.13  50559700\n",
       "4  2010-01-08  30.28  30.88  30.24  30.66      24.30  51197400"
      ]
     },
     "execution_count": 5,
     "metadata": {},
     "output_type": "execute_result"
    }
   ],
   "source": [
    "msft.head()"
   ]
  },
  {
   "cell_type": "code",
   "execution_count": 6,
   "metadata": {},
   "outputs": [
    {
     "data": {
      "image/png": "[encoded data removed]",
      "text/plain": [
       "<Figure size 432x288 with 1 Axes>"
      ]
     },
     "metadata": {
      "needs_background": "light"
     },
     "output_type": "display_data"
    }
   ],
   "source": [
    "plt.figure()\n",
    "plt.plot(msft[\"Open\"])\n",
    "plt.plot(msft[\"Close\"])\n",
    "plt.plot(msft[\"High\"])\n",
    "plt.plot(msft[\"Low\"])\n",
    "plt.show()"
   ]
  },
  {
   "cell_type": "markdown",
   "metadata": {},
   "source": [
    "### Normalize Data"
   ]
  },
  {
   "cell_type": "code",
   "execution_count": 7,
   "metadata": {},
   "outputs": [],
   "source": [
    "df_train, df_test = train_test_split(msft, train_size=0.8, test_size=0.2, shuffle=False)"
   ]
  },
  {
   "cell_type": "code",
   "execution_count": 8,
   "metadata": {},
   "outputs": [
    {
     "data": {
      "text/html": [
       "<div>\n",
       "<style scoped>\n",
       "    .dataframe tbody tr th:only-of-type {\n",
       "        vertical-align: middle;\n",
       "    }\n",
       "\n",
       "    .dataframe tbody tr th {\n",
       "        vertical-align: top;\n",
       "    }\n",
       "\n",
       "    .dataframe thead th {\n",
       "        text-align: right;\n",
       "    }\n",
       "</style>\n",
       "<table border=\"1\" class=\"dataframe\">\n",
       "  <thead>\n",
       "    <tr style=\"text-align: right;\">\n",
       "      <th></th>\n",
       "      <th>Date</th>\n",
       "      <th>Open</th>\n",
       "      <th>High</th>\n",
       "      <th>Low</th>\n",
       "      <th>Close</th>\n",
       "      <th>Adj Close</th>\n",
       "      <th>Volume</th>\n",
       "    </tr>\n",
       "  </thead>\n",
       "  <tbody>\n",
       "    <tr>\n",
       "      <th>0</th>\n",
       "      <td>2010-01-04</td>\n",
       "      <td>30.62</td>\n",
       "      <td>31.10</td>\n",
       "      <td>30.59</td>\n",
       "      <td>30.95</td>\n",
       "      <td>24.53</td>\n",
       "      <td>38409100</td>\n",
       "    </tr>\n",
       "    <tr>\n",
       "      <th>1</th>\n",
       "      <td>2010-01-05</td>\n",
       "      <td>30.85</td>\n",
       "      <td>31.10</td>\n",
       "      <td>30.64</td>\n",
       "      <td>30.96</td>\n",
       "      <td>24.53</td>\n",
       "      <td>49749600</td>\n",
       "    </tr>\n",
       "    <tr>\n",
       "      <th>2</th>\n",
       "      <td>2010-01-06</td>\n",
       "      <td>30.88</td>\n",
       "      <td>31.08</td>\n",
       "      <td>30.52</td>\n",
       "      <td>30.77</td>\n",
       "      <td>24.38</td>\n",
       "      <td>58182400</td>\n",
       "    </tr>\n",
       "    <tr>\n",
       "      <th>3</th>\n",
       "      <td>2010-01-07</td>\n",
       "      <td>30.63</td>\n",
       "      <td>30.70</td>\n",
       "      <td>30.19</td>\n",
       "      <td>30.45</td>\n",
       "      <td>24.13</td>\n",
       "      <td>50559700</td>\n",
       "    </tr>\n",
       "    <tr>\n",
       "      <th>4</th>\n",
       "      <td>2010-01-08</td>\n",
       "      <td>30.28</td>\n",
       "      <td>30.88</td>\n",
       "      <td>30.24</td>\n",
       "      <td>30.66</td>\n",
       "      <td>24.30</td>\n",
       "      <td>51197400</td>\n",
       "    </tr>\n",
       "  </tbody>\n",
       "</table>\n",
       "</div>"
      ],
      "text/plain": [
       "         Date   Open   High    Low  Close  Adj Close    Volume\n",
       "0  2010-01-04  30.62  31.10  30.59  30.95      24.53  38409100\n",
       "1  2010-01-05  30.85  31.10  30.64  30.96      24.53  49749600\n",
       "2  2010-01-06  30.88  31.08  30.52  30.77      24.38  58182400\n",
       "3  2010-01-07  30.63  30.70  30.19  30.45      24.13  50559700\n",
       "4  2010-01-08  30.28  30.88  30.24  30.66      24.30  51197400"
      ]
     },
     "execution_count": 8,
     "metadata": {},
     "output_type": "execute_result"
    }
   ],
   "source": [
    "df_train.head()"
   ]
  },
  {
   "cell_type": "code",
   "execution_count": 9,
   "metadata": {},
   "outputs": [
    {
     "data": {
      "text/html": [
       "<div>\n",
       "<style scoped>\n",
       "    .dataframe tbody tr th:only-of-type {\n",
       "        vertical-align: middle;\n",
       "    }\n",
       "\n",
       "    .dataframe tbody tr th {\n",
       "        vertical-align: top;\n",
       "    }\n",
       "\n",
       "    .dataframe thead th {\n",
       "        text-align: right;\n",
       "    }\n",
       "</style>\n",
       "<table border=\"1\" class=\"dataframe\">\n",
       "  <thead>\n",
       "    <tr style=\"text-align: right;\">\n",
       "      <th></th>\n",
       "      <th>Date</th>\n",
       "      <th>Open</th>\n",
       "      <th>High</th>\n",
       "      <th>Low</th>\n",
       "      <th>Close</th>\n",
       "      <th>Adj Close</th>\n",
       "      <th>Volume</th>\n",
       "    </tr>\n",
       "  </thead>\n",
       "  <tbody>\n",
       "    <tr>\n",
       "      <th>1913</th>\n",
       "      <td>2017-08-09</td>\n",
       "      <td>72.25</td>\n",
       "      <td>72.51</td>\n",
       "      <td>72.05</td>\n",
       "      <td>72.47</td>\n",
       "      <td>69.95</td>\n",
       "      <td>22213400</td>\n",
       "    </tr>\n",
       "    <tr>\n",
       "      <th>1914</th>\n",
       "      <td>2017-08-10</td>\n",
       "      <td>71.90</td>\n",
       "      <td>72.19</td>\n",
       "      <td>71.35</td>\n",
       "      <td>71.41</td>\n",
       "      <td>68.92</td>\n",
       "      <td>24734500</td>\n",
       "    </tr>\n",
       "    <tr>\n",
       "      <th>1915</th>\n",
       "      <td>2017-08-11</td>\n",
       "      <td>71.61</td>\n",
       "      <td>72.70</td>\n",
       "      <td>71.28</td>\n",
       "      <td>72.50</td>\n",
       "      <td>69.98</td>\n",
       "      <td>21443700</td>\n",
       "    </tr>\n",
       "    <tr>\n",
       "      <th>1916</th>\n",
       "      <td>2017-08-14</td>\n",
       "      <td>73.06</td>\n",
       "      <td>73.72</td>\n",
       "      <td>72.95</td>\n",
       "      <td>73.59</td>\n",
       "      <td>71.03</td>\n",
       "      <td>20096600</td>\n",
       "    </tr>\n",
       "    <tr>\n",
       "      <th>1917</th>\n",
       "      <td>2017-08-15</td>\n",
       "      <td>73.59</td>\n",
       "      <td>73.59</td>\n",
       "      <td>73.04</td>\n",
       "      <td>73.22</td>\n",
       "      <td>71.05</td>\n",
       "      <td>19181400</td>\n",
       "    </tr>\n",
       "  </tbody>\n",
       "</table>\n",
       "</div>"
      ],
      "text/plain": [
       "            Date   Open   High    Low  Close  Adj Close    Volume\n",
       "1913  2017-08-09  72.25  72.51  72.05  72.47      69.95  22213400\n",
       "1914  2017-08-10  71.90  72.19  71.35  71.41      68.92  24734500\n",
       "1915  2017-08-11  71.61  72.70  71.28  72.50      69.98  21443700\n",
       "1916  2017-08-14  73.06  73.72  72.95  73.59      71.03  20096600\n",
       "1917  2017-08-15  73.59  73.59  73.04  73.22      71.05  19181400"
      ]
     },
     "execution_count": 9,
     "metadata": {},
     "output_type": "execute_result"
    }
   ],
   "source": [
    "df_test.head()"
   ]
  },
  {
   "cell_type": "code",
   "execution_count": 10,
   "metadata": {},
   "outputs": [
    {
     "name": "stdout",
     "output_type": "stream",
     "text": [
      "Train and Test Size: 1913 479\n"
     ]
    }
   ],
   "source": [
    "train_cols = [\"Open\", \"High\", \"Low\", \"Close\", \"Adj Close\", \"Volume\"]\n",
    "print(\"Train and Test Size:\", len(df_train), len(df_test))\n",
    "x = df_train.drop(columns=[\"Date\"]).values\n",
    "min_max_scaler = MinMaxScaler()\n",
    "\n",
    "# Transforming Data\n",
    "x_train = min_max_scaler.fit_transform(x)\n",
    "x_test = min_max_scaler.fit_transform(df_test.drop(columns=[\"Date\"]).values)"
   ]
  },
  {
   "cell_type": "code",
   "execution_count": 11,
   "metadata": {},
   "outputs": [
    {
     "data": {
      "text/plain": [
       "((1913, 6), (479, 6))"
      ]
     },
     "execution_count": 11,
     "metadata": {},
     "output_type": "execute_result"
    }
   ],
   "source": [
    "x_train.shape, x_test.shape"
   ]
  },
  {
   "cell_type": "markdown",
   "metadata": {},
   "source": [
    "## Build Time-Series Structure"
   ]
  },
  {
   "cell_type": "code",
   "execution_count": 12,
   "metadata": {},
   "outputs": [
    {
     "name": "stdout",
     "output_type": "stream",
     "text": [
      "length of time-series i/o (1863, 50, 6) (1863,)\n",
      "length of time-series i/o (429, 50, 6) (429,)\n"
     ]
    }
   ],
   "source": [
    "def build_timeseries(mat, y_col_index):\n",
    "    # y_col_index is the index of column that would act as output column\n",
    "    # total number of time-series samples would be len(mat) - TIME_STEPS\n",
    "    dim_0, dim_1 = mat.shape[0] - TIME_STEPS, mat.shape[1]\n",
    "    x = np.zeros((dim_0, TIME_STEPS, dim_1))\n",
    "    y = np.zeros((dim_0,))\n",
    "    for i in range(dim_0):\n",
    "        x[i] = mat[i:TIME_STEPS+i]\n",
    "        y[i] = mat[TIME_STEPS+i, y_col_index]\n",
    "    print(\"length of time-series i/o\",x.shape,y.shape)\n",
    "    return x, y\n",
    "\n",
    "def trim_dataset(mat, batch_size):\n",
    "    \"\"\"\n",
    "    trims dataset to a size that's divisible by BATCH_SIZE\n",
    "    \"\"\"\n",
    "    no_of_rows_drop = mat.shape[0]%batch_size\n",
    "    if(no_of_rows_drop > 0):\n",
    "        return mat[:-no_of_rows_drop]\n",
    "    else:\n",
    "        return mat\n",
    "    \n",
    "x_t, y_t = build_timeseries(x_train, 3)\n",
    "x_t = trim_dataset(x_t, BATCH_SIZE)\n",
    "y_t = trim_dataset(y_t, BATCH_SIZE)\n",
    "x_temp, y_temp = build_timeseries(x_test, 3)\n",
    "x_val, x_test_t = np.split(trim_dataset(x_temp, BATCH_SIZE),2)\n",
    "y_val, y_test_t = np.split(trim_dataset(y_temp, BATCH_SIZE),2)"
   ]
  },
  {
   "cell_type": "code",
   "execution_count": 13,
   "metadata": {},
   "outputs": [
    {
     "name": "stdout",
     "output_type": "stream",
     "text": [
      "WARNING:tensorflow:From c:\\python37\\lib\\site-packages\\keras\\backend\\tensorflow_backend.py:66: The name tf.get_default_graph is deprecated. Please use tf.compat.v1.get_default_graph instead.\n",
      "\n",
      "WARNING:tensorflow:From c:\\python37\\lib\\site-packages\\keras\\backend\\tensorflow_backend.py:541: The name tf.placeholder is deprecated. Please use tf.compat.v1.placeholder instead.\n",
      "\n",
      "WARNING:tensorflow:From c:\\python37\\lib\\site-packages\\keras\\backend\\tensorflow_backend.py:4432: The name tf.random_uniform is deprecated. Please use tf.random.uniform instead.\n",
      "\n",
      "WARNING:tensorflow:From c:\\python37\\lib\\site-packages\\keras\\backend\\tensorflow_backend.py:148: The name tf.placeholder_with_default is deprecated. Please use tf.compat.v1.placeholder_with_default instead.\n",
      "\n",
      "WARNING:tensorflow:From c:\\python37\\lib\\site-packages\\keras\\backend\\tensorflow_backend.py:3733: calling dropout (from tensorflow.python.ops.nn_ops) with keep_prob is deprecated and will be removed in a future version.\n",
      "Instructions for updating:\n",
      "Please use `rate` instead of `keep_prob`. Rate should be set to `rate = 1 - keep_prob`.\n",
      "WARNING:tensorflow:From c:\\python37\\lib\\site-packages\\keras\\optimizers.py:793: The name tf.train.Optimizer is deprecated. Please use tf.compat.v1.train.Optimizer instead.\n",
      "\n"
     ]
    }
   ],
   "source": [
    "lstm_model = Sequential()\n",
    "lstm_model.add(LSTM(100, batch_input_shape=(BATCH_SIZE, TIME_STEPS, x_t.shape[2]), dropout=0.0, recurrent_dropout=0.0, stateful=True,     kernel_initializer='random_uniform'))\n",
    "lstm_model.add(Dropout(0.4))\n",
    "lstm_model.add(Dense(20,activation='relu'))\n",
    "lstm_model.add(Dense(1,activation='sigmoid'))\n",
    "optimizer = optimizers.RMSprop(lr=0.001)\n",
    "lstm_model.compile(loss='mean_squared_error', optimizer=optimizer)"
   ]
  },
  {
   "cell_type": "code",
   "execution_count": 14,
   "metadata": {},
   "outputs": [
    {
     "name": "stdout",
     "output_type": "stream",
     "text": [
      "WARNING:tensorflow:From c:\\python37\\lib\\site-packages\\tensorflow\\python\\ops\\math_grad.py:1250: add_dispatch_support.<locals>.wrapper (from tensorflow.python.ops.array_ops) is deprecated and will be removed in a future version.\n",
      "Instructions for updating:\n",
      "Use tf.where in 2.0, which has the same broadcast rule as np.where\n",
      "WARNING:tensorflow:From c:\\python37\\lib\\site-packages\\keras\\backend\\tensorflow_backend.py:1033: The name tf.assign_add is deprecated. Please use tf.compat.v1.assign_add instead.\n",
      "\n",
      "Train on 1850 samples, validate on 200 samples\n",
      "Epoch 1/50\n",
      " - 1s - loss: 0.0280 - val_loss: 0.2719\n",
      "Epoch 2/50\n",
      " - 1s - loss: 0.0471 - val_loss: 0.0951\n",
      "Epoch 3/50\n",
      " - 1s - loss: 0.0114 - val_loss: 0.0836\n",
      "Epoch 4/50\n",
      " - 1s - loss: 0.0088 - val_loss: 0.0269\n",
      "Epoch 5/50\n",
      " - 1s - loss: 0.0065 - val_loss: 0.0256\n",
      "Epoch 6/50\n",
      " - 1s - loss: 0.0065 - val_loss: 0.0239\n",
      "Epoch 7/50\n",
      " - 1s - loss: 0.0060 - val_loss: 0.0110\n",
      "Epoch 8/50\n",
      " - 1s - loss: 0.0054 - val_loss: 0.0090\n",
      "Epoch 9/50\n",
      " - 1s - loss: 0.0049 - val_loss: 0.0083\n",
      "Epoch 10/50\n",
      " - 1s - loss: 0.0049 - val_loss: 0.0074\n",
      "Epoch 11/50\n",
      " - 1s - loss: 0.0038 - val_loss: 0.0048\n",
      "Epoch 12/50\n",
      " - 1s - loss: 0.0031 - val_loss: 0.0038\n",
      "Epoch 13/50\n",
      " - 1s - loss: 0.0033 - val_loss: 0.0059\n",
      "Epoch 14/50\n",
      " - 1s - loss: 0.0040 - val_loss: 0.0057\n",
      "Epoch 15/50\n",
      " - 1s - loss: 0.0033 - val_loss: 0.0023\n",
      "Epoch 16/50\n",
      " - 1s - loss: 0.0025 - val_loss: 0.0020\n",
      "Epoch 17/50\n",
      " - 1s - loss: 0.0034 - val_loss: 0.0053\n",
      "Epoch 18/50\n",
      " - 1s - loss: 0.0026 - val_loss: 0.0019\n",
      "Epoch 19/50\n",
      " - 1s - loss: 0.0026 - val_loss: 0.0029\n",
      "Epoch 20/50\n",
      " - 1s - loss: 0.0027 - val_loss: 0.0025\n",
      "Epoch 21/50\n",
      " - 1s - loss: 0.0023 - val_loss: 0.0020\n",
      "Epoch 22/50\n",
      " - 1s - loss: 0.0023 - val_loss: 0.0017\n",
      "Epoch 23/50\n",
      " - 1s - loss: 0.0018 - val_loss: 0.0013\n",
      "Epoch 24/50\n",
      " - 1s - loss: 0.0018 - val_loss: 0.0018\n",
      "Epoch 25/50\n",
      " - 1s - loss: 0.0025 - val_loss: 0.0031\n",
      "Epoch 26/50\n",
      " - 1s - loss: 0.0021 - val_loss: 0.0012\n",
      "Epoch 27/50\n",
      " - 1s - loss: 0.0018 - val_loss: 0.0011\n",
      "Epoch 28/50\n",
      " - 1s - loss: 0.0020 - val_loss: 0.0013\n",
      "Epoch 29/50\n",
      " - 1s - loss: 0.0019 - val_loss: 0.0011\n",
      "Epoch 30/50\n",
      " - 1s - loss: 0.0015 - val_loss: 0.0012\n",
      "Epoch 31/50\n",
      " - 1s - loss: 0.0015 - val_loss: 0.0013\n",
      "Epoch 32/50\n",
      " - 1s - loss: 0.0016 - val_loss: 0.0012\n",
      "Epoch 33/50\n",
      " - 1s - loss: 0.0016 - val_loss: 0.0011\n",
      "Epoch 34/50\n",
      " - 1s - loss: 0.0016 - val_loss: 0.0011\n",
      "Epoch 35/50\n",
      " - 1s - loss: 0.0017 - val_loss: 0.0010\n",
      "Epoch 36/50\n",
      " - 1s - loss: 0.0014 - val_loss: 9.9145e-04\n",
      "Epoch 37/50\n",
      " - 1s - loss: 0.0017 - val_loss: 9.3503e-04\n",
      "Epoch 38/50\n",
      " - 1s - loss: 0.0012 - val_loss: 9.0566e-04\n",
      "Epoch 39/50\n",
      " - 1s - loss: 0.0015 - val_loss: 0.0010\n",
      "Epoch 40/50\n",
      " - 1s - loss: 0.0015 - val_loss: 8.7948e-04\n",
      "Epoch 41/50\n",
      " - 1s - loss: 0.0013 - val_loss: 0.0010\n",
      "Epoch 42/50\n",
      " - 1s - loss: 0.0012 - val_loss: 0.0012\n",
      "Epoch 43/50\n",
      " - 1s - loss: 0.0012 - val_loss: 8.9737e-04\n",
      "Epoch 44/50\n",
      " - 1s - loss: 0.0013 - val_loss: 9.3734e-04\n",
      "Epoch 45/50\n",
      " - 1s - loss: 0.0013 - val_loss: 8.9949e-04\n",
      "Epoch 46/50\n",
      " - 1s - loss: 0.0013 - val_loss: 9.2849e-04\n",
      "Epoch 47/50\n",
      " - 1s - loss: 9.7551e-04 - val_loss: 8.1612e-04\n",
      "Epoch 48/50\n",
      " - 1s - loss: 0.0012 - val_loss: 0.0011\n",
      "Epoch 49/50\n",
      " - 1s - loss: 0.0012 - val_loss: 8.5251e-04\n",
      "Epoch 50/50\n",
      " - 1s - loss: 0.0012 - val_loss: 8.0596e-04\n",
      "<keras.callbacks.History object at 0x000001C53BA9DF08>\n"
     ]
    }
   ],
   "source": [
    "csv_logger = CSVLogger(\"stock_supervised.log\", append=True)\n",
    "\n",
    "history = lstm_model.fit(x_t, y_t, epochs=50, verbose=2, batch_size=BATCH_SIZE,\n",
    "                    shuffle=False, validation_data=(trim_dataset(x_val, BATCH_SIZE),\n",
    "                    trim_dataset(y_val, BATCH_SIZE)), callbacks=[csv_logger])\n",
    "print(history)\n"
   ]
  },
  {
   "cell_type": "code",
   "execution_count": 15,
   "metadata": {},
   "outputs": [
    {
     "name": "stdout",
     "output_type": "stream",
     "text": [
      "Error is 0.002259518775686358 (200,) (200,)\n",
      "[0.56799066 0.58314854 0.6002228  0.6177526  0.624439   0.6254471\n",
      " 0.6290554  0.6167404  0.6106566  0.60583025 0.60099053 0.5902717\n",
      " 0.5866853  0.5898528  0.5980046 ]\n",
      "[0.5645623  0.5737532  0.57646527 0.56637035 0.55446738 0.5748079\n",
      " 0.5461805  0.54587916 0.54497514 0.53427754 0.52086786 0.53714027\n",
      " 0.5446738  0.55733012 0.57541058]\n"
     ]
    }
   ],
   "source": [
    "y_pred = lstm_model.predict(trim_dataset(x_test_t, BATCH_SIZE), batch_size=BATCH_SIZE)\n",
    "y_pred = y_pred.flatten()\n",
    "y_test_t = trim_dataset(y_test_t, BATCH_SIZE)\n",
    "error = mean_squared_error(y_test_t, y_pred)\n",
    "print(\"Error is\", error, y_pred.shape, y_test_t.shape)\n",
    "print(y_pred[0:15])\n",
    "print(y_test_t[0:15])\n",
    "y_pred_org = (y_pred * min_max_scaler.data_range_[3]) + min_max_scaler.data_min_[3]\n",
    "# min_max_scaler.inverse_transform(y_pred)\n",
    "y_test_t_org = (y_test_t * min_max_scaler.data_range_[3]) + min_max_scaler.data_min_[3]"
   ]
  },
  {
   "cell_type": "code",
   "execution_count": 19,
   "metadata": {},
   "outputs": [
    {
     "data": {
      "text/plain": [
       "<Figure size 432x288 with 0 Axes>"
      ]
     },
     "metadata": {},
     "output_type": "display_data"
    },
    {
     "data": {
      "image/png": "[encoded data removed]",
      "text/plain": [
       "<Figure size 432x288 with 1 Axes>"
      ]
     },
     "metadata": {
      "needs_background": "light"
     },
     "output_type": "display_data"
    },
    {
     "data": {
      "text/plain": [
       "<Figure size 432x288 with 0 Axes>"
      ]
     },
     "metadata": {},
     "output_type": "display_data"
    }
   ],
   "source": [
    "from matplotlib import pyplot as plt\n",
    "plt.figure()\n",
    "# plt.plot(history.history['loss'])\n",
    "# plt.plot(history.history['val_loss'])\n",
    "# plt.title('Model loss')\n",
    "# plt.ylabel('Loss')\n",
    "# plt.xlabel('Epoch')\n",
    "# plt.legend(['Train', 'Test'], loc='upper left')\n",
    "# #plt.show()\n",
    "# plt.savefig( 'train_vis_BS_.png')\n",
    "\n",
    "from matplotlib import pyplot as plt\n",
    "plt.figure()\n",
    "plt.plot(y_pred_org)\n",
    "plt.plot(y_test_t_org)\n",
    "plt.title('Prediction vs Real Stock Price')\n",
    "plt.ylabel('Price')\n",
    "plt.xlabel('Days')\n",
    "plt.legend(['Prediction', 'Real'], loc='upper left')\n",
    "plt.show()\n",
    "plt.savefig('pred_vs_real_BS_.png')\n"
   ]
  },
  {
   "cell_type": "markdown",
   "metadata": {},
   "source": [
    "## Reinforcement Learning Approach (Q-Learning)"
   ]
  },
  {
   "cell_type": "markdown",
   "metadata": {},
   "source": [
    "### Create Environment for ML Agent"
   ]
  },
  {
   "cell_type": "code",
   "execution_count": null,
   "metadata": {},
   "outputs": [],
   "source": []
  }
 ],
 "metadata": {
  "kernelspec": {
   "display_name": "Python 3",
   "language": "python",
   "name": "python3"
  },
  "language_info": {
   "codemirror_mode": {
    "name": "ipython",
    "version": 3
   },
   "file_extension": ".py",
   "mimetype": "text/x-python",
   "name": "python",
   "nbconvert_exporter": "python",
   "pygments_lexer": "ipython3",
   "version": "3.7.4"
  }
 },
 "nbformat": 4,
 "nbformat_minor": 2
}
